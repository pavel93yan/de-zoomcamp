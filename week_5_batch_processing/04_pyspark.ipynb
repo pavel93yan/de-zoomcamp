{
 "cells": [
  {
   "cell_type": "code",
   "execution_count": 4,
   "id": "b3ba0768",
   "metadata": {},
   "outputs": [],
   "source": [
    "import findspark\n",
    "findspark.init()"
   ]
  },
  {
   "cell_type": "code",
   "execution_count": 5,
   "id": "f6875648",
   "metadata": {},
   "outputs": [],
   "source": [
    "import pyspark"
   ]
  },
  {
   "cell_type": "code",
   "execution_count": 7,
   "id": "e98503a7",
   "metadata": {},
   "outputs": [],
   "source": [
    "from pyspark.sql import SparkSession"
   ]
  },
  {
   "cell_type": "code",
   "execution_count": null,
   "id": "36495b04",
   "metadata": {},
   "outputs": [],
   "source": [
    "spark = SparkSession.builder \\\n",
    "    .master(\"local[*]\") \\\n",
    "    .appName('test') \\\n",
    "    .getOrCreate()"
   ]
  },
  {
   "cell_type": "code",
   "execution_count": 20,
   "id": "5dba0b68",
   "metadata": {},
   "outputs": [],
   "source": [
    "import pandas as pd"
   ]
  },
  {
   "cell_type": "code",
   "execution_count": 21,
   "id": "17273336",
   "metadata": {},
   "outputs": [],
   "source": [
    "df_pandas = pd.read_csv('fhvhv_tripdata_2021-01.csv.gz', nrows=1001)"
   ]
  },
  {
   "cell_type": "code",
   "execution_count": 23,
   "id": "8a534753",
   "metadata": {},
   "outputs": [],
   "source": [
    "df_pandas.to_csv('fhvhv_tripdata_2021-01-1001.csv', header=True, index=False)"
   ]
  },
  {
   "cell_type": "code",
   "execution_count": 25,
   "id": "9254deb0",
   "metadata": {},
   "outputs": [],
   "source": [
    "from pyspark.sql import types"
   ]
  },
  {
   "cell_type": "code",
   "execution_count": 26,
   "id": "d8fe2afe",
   "metadata": {},
   "outputs": [],
   "source": [
    "schema = types.StructType([\n",
    "    types.StructField('hvfhs_license_num', types.StringType(), True),\n",
    "    types.StructField('dispatching_base_num', types.StringType(), True),\n",
    "    types.StructField('pickup_datetime', types.TimestampType(), True),\n",
    "    types.StructField('dropoff_datetime', types.TimestampType(), True),\n",
    "    types.StructField('PULocationID', types.IntegerType(), True),\n",
    "    types.StructField('DOLocationID', types.IntegerType(), True),\n",
    "    types.StructField('SR_Flag', types.StringType(), True)\n",
    "])"
   ]
  },
  {
   "cell_type": "code",
   "execution_count": 27,
   "id": "597fda72",
   "metadata": {},
   "outputs": [],
   "source": [
    "df = spark.read \\\n",
    "    .option(\"header\", \"true\") \\\n",
    "    .schema(schema) \\\n",
    "    .csv('fhvhv_tripdata_2021-01-1001.csv')"
   ]
  },
  {
   "cell_type": "code",
   "execution_count": 29,
   "id": "7491df57",
   "metadata": {},
   "outputs": [],
   "source": [
    "df = df.repartition(24)"
   ]
  },
  {
   "cell_type": "code",
   "execution_count": 30,
   "id": "af433bcb",
   "metadata": {},
   "outputs": [],
   "source": [
    "df.write.parquet('fhvhv/2021/01/')"
   ]
  },
  {
   "cell_type": "code",
   "execution_count": 52,
   "id": "8def54bd",
   "metadata": {},
   "outputs": [],
   "source": [
    "df = spark.read.parquet('fhvhv/2021/01/')"
   ]
  },
  {
   "cell_type": "code",
   "execution_count": 68,
   "id": "dd159548",
   "metadata": {},
   "outputs": [
    {
     "name": "stdout",
     "output_type": "stream",
     "text": [
      "root\n",
      " |-- hvfhs_license_num: string (nullable = true)\n",
      " |-- dispatching_base_num: string (nullable = true)\n",
      " |-- pickup_datetime: timestamp (nullable = true)\n",
      " |-- dropoff_datetime: timestamp (nullable = true)\n",
      " |-- PULocationID: integer (nullable = true)\n",
      " |-- DOLocationID: integer (nullable = true)\n",
      " |-- SR_Flag: string (nullable = true)\n",
      "\n"
     ]
    }
   ],
   "source": [
    "df.printSchema()"
   ]
  },
  {
   "cell_type": "code",
   "execution_count": 34,
   "id": "f370e6cf",
   "metadata": {},
   "outputs": [
    {
     "name": "stdout",
     "output_type": "stream",
     "text": [
      "4\n"
     ]
    }
   ],
   "source": [
    "print(df.rdd.getNumPartitions())"
   ]
  },
  {
   "cell_type": "code",
   "execution_count": 35,
   "id": "27301ebf",
   "metadata": {},
   "outputs": [],
   "source": [
    "from pyspark.sql import functions as F"
   ]
  },
  {
   "cell_type": "code",
   "execution_count": 50,
   "id": "bf1a661f",
   "metadata": {},
   "outputs": [
    {
     "name": "stdout",
     "output_type": "stream",
     "text": [
      "+-----------------+--------------------+-------------------+-------------------+------------+------------+-------+\n",
      "|hvfhs_license_num|dispatching_base_num|    pickup_datetime|   dropoff_datetime|PULocationID|DOLocationID|SR_Flag|\n",
      "+-----------------+--------------------+-------------------+-------------------+------------+------------+-------+\n",
      "|           HV0003|              B02879|2021-01-01 00:59:12|2021-01-01 01:11:50|         174|         208|   null|\n",
      "|           HV0003|              B02866|2021-01-01 00:38:16|2021-01-01 00:51:40|         233|         144|   null|\n",
      "|           HV0003|              B02882|2021-01-01 00:43:38|2021-01-01 01:00:14|         244|         254|   null|\n",
      "|           HV0003|              B02835|2021-01-01 00:08:10|2021-01-01 00:20:26|         119|         159|   null|\n",
      "|           HV0003|              B02889|2021-01-01 00:15:56|2021-01-01 00:26:18|         164|         141|   null|\n",
      "|           HV0004|              B02800|2021-01-01 00:28:06|2021-01-01 00:40:46|         151|         143|   null|\n",
      "|           HV0003|              B02869|2021-01-01 00:42:06|2021-01-01 00:59:10|         231|          40|   null|\n",
      "|           HV0005|              B02510|2021-01-01 00:12:26|2021-01-01 00:22:22|         224|         170|   null|\n",
      "|           HV0003|              B02877|2021-01-01 00:33:52|2021-01-01 00:50:42|          49|          37|   null|\n",
      "|           HV0005|              B02510|2021-01-01 00:04:36|2021-01-01 00:17:11|          52|         255|   null|\n",
      "|           HV0005|              B02510|2021-01-01 00:11:41|2021-01-01 00:23:35|         235|          60|   null|\n",
      "|           HV0003|              B02879|2021-01-01 00:57:11|2021-01-01 01:07:30|         168|         126|   null|\n",
      "|           HV0003|              B02835|2021-01-01 00:44:40|2021-01-01 00:49:35|         168|         168|   null|\n",
      "|           HV0003|              B02512|2021-01-01 00:35:39|2021-01-01 00:42:59|         116|         116|   null|\n",
      "|           HV0003|              B02765|2021-01-01 00:17:27|2021-01-01 00:33:39|         243|         168|   null|\n",
      "|           HV0003|              B02883|2021-01-01 00:39:48|2021-01-01 00:48:03|          79|         140|   null|\n",
      "|           HV0005|              B02510|2021-01-01 00:59:50|2021-01-01 01:15:15|         116|         242|   null|\n",
      "|           HV0003|              B02765|2021-01-01 00:17:40|2021-01-01 00:24:29|         145|         112|   null|\n",
      "|           HV0003|              B02617|2021-01-01 00:42:12|2021-01-01 00:46:19|          75|         168|   null|\n",
      "|           HV0005|              B02510|2021-01-01 00:03:29|2021-01-01 00:23:40|          77|          61|   null|\n",
      "+-----------------+--------------------+-------------------+-------------------+------------+------------+-------+\n",
      "only showing top 20 rows\n",
      "\n"
     ]
    }
   ],
   "source": [
    "df.show()"
   ]
  },
  {
   "cell_type": "code",
   "execution_count": 39,
   "id": "b9a05043",
   "metadata": {},
   "outputs": [],
   "source": [
    "def crazy_stuff(base_num):\n",
    "    num = int(base_num[1:])\n",
    "    if num % 7 == 0:\n",
    "        return f's/{num:03x}'\n",
    "    elif num % 3 == 0:\n",
    "        return f'a/{num:03x}'\n",
    "    else:\n",
    "        return f'e/{num:03x}'"
   ]
  },
  {
   "cell_type": "code",
   "execution_count": 40,
   "id": "e79a000a",
   "metadata": {},
   "outputs": [
    {
     "data": {
      "text/plain": [
       "'s/b44'"
      ]
     },
     "execution_count": 40,
     "metadata": {},
     "output_type": "execute_result"
    }
   ],
   "source": [
    "crazy_stuff('B02884')"
   ]
  },
  {
   "cell_type": "code",
   "execution_count": 41,
   "id": "f6432b1f",
   "metadata": {},
   "outputs": [],
   "source": [
    "crazy_stuff_udf = F.udf(crazy_stuff, returnType=types.StringType())"
   ]
  },
  {
   "cell_type": "code",
   "execution_count": 42,
   "id": "9e996c64",
   "metadata": {},
   "outputs": [
    {
     "name": "stdout",
     "output_type": "stream",
     "text": [
      "+-------+-----------+------------+------------+------------+\n",
      "|base_id|pickup_date|dropoff_date|PULocationID|DOLocationID|\n",
      "+-------+-----------+------------+------------+------------+\n",
      "|  e/b3f| 2021-01-01|  2021-01-01|         174|         208|\n",
      "|  e/b32| 2021-01-01|  2021-01-01|         233|         144|\n",
      "|  e/b42| 2021-01-01|  2021-01-01|         244|         254|\n",
      "|  s/b13| 2021-01-01|  2021-01-01|         119|         159|\n",
      "|  a/b49| 2021-01-01|  2021-01-01|         164|         141|\n",
      "|  s/af0| 2021-01-01|  2021-01-01|         151|         143|\n",
      "|  e/b35| 2021-01-01|  2021-01-01|         231|          40|\n",
      "|  e/9ce| 2021-01-01|  2021-01-01|         224|         170|\n",
      "|  s/b3d| 2021-01-01|  2021-01-01|          49|          37|\n",
      "|  e/9ce| 2021-01-01|  2021-01-01|          52|         255|\n",
      "|  e/9ce| 2021-01-01|  2021-01-01|         235|          60|\n",
      "|  e/b3f| 2021-01-01|  2021-01-01|         168|         126|\n",
      "|  s/b13| 2021-01-01|  2021-01-01|         168|         168|\n",
      "|  e/9d0| 2021-01-01|  2021-01-01|         116|         116|\n",
      "|  s/acd| 2021-01-01|  2021-01-01|         243|         168|\n",
      "|  a/b43| 2021-01-01|  2021-01-01|          79|         140|\n",
      "|  e/9ce| 2021-01-01|  2021-01-01|         116|         242|\n",
      "|  s/acd| 2021-01-01|  2021-01-01|         145|         112|\n",
      "|  e/a39| 2021-01-01|  2021-01-01|          75|         168|\n",
      "|  e/9ce| 2021-01-01|  2021-01-01|          77|          61|\n",
      "+-------+-----------+------------+------------+------------+\n",
      "only showing top 20 rows\n",
      "\n"
     ]
    }
   ],
   "source": [
    "df \\\n",
    "    .withColumn('pickup_date', F.to_date(df.pickup_datetime)) \\\n",
    "    .withColumn('dropoff_date', F.to_date(df.dropoff_datetime)) \\\n",
    "    .withColumn('base_id', crazy_stuff_udf(df.dispatching_base_num)) \\\n",
    "    .select('base_id', 'pickup_date', 'dropoff_date', 'PULocationID', 'DOLocationID') \\\n",
    "    .show()"
   ]
  },
  {
   "cell_type": "code",
   "execution_count": 46,
   "id": "d7bbd779",
   "metadata": {},
   "outputs": [
    {
     "data": {
      "text/plain": [
       "[Row(pickup_datetime=datetime.datetime(2021, 1, 1, 0, 59, 12), dropoff_datetime=datetime.datetime(2021, 1, 1, 1, 11, 50), PULocationID=174, DOLocationID=208),\n",
       " Row(pickup_datetime=datetime.datetime(2021, 1, 1, 0, 38, 16), dropoff_datetime=datetime.datetime(2021, 1, 1, 0, 51, 40), PULocationID=233, DOLocationID=144),\n",
       " Row(pickup_datetime=datetime.datetime(2021, 1, 1, 0, 43, 38), dropoff_datetime=datetime.datetime(2021, 1, 1, 1, 0, 14), PULocationID=244, DOLocationID=254),\n",
       " Row(pickup_datetime=datetime.datetime(2021, 1, 1, 0, 8, 10), dropoff_datetime=datetime.datetime(2021, 1, 1, 0, 20, 26), PULocationID=119, DOLocationID=159),\n",
       " Row(pickup_datetime=datetime.datetime(2021, 1, 1, 0, 15, 56), dropoff_datetime=datetime.datetime(2021, 1, 1, 0, 26, 18), PULocationID=164, DOLocationID=141)]"
      ]
     },
     "execution_count": 46,
     "metadata": {},
     "output_type": "execute_result"
    }
   ],
   "source": [
    "df.select('pickup_datetime', 'dropoff_datetime', 'PULocationID', 'DOLocationID') \\\n",
    "  .filter(df.hvfhs_license_num == 'HV0003').head(5)"
   ]
  },
  {
   "cell_type": "code",
   "execution_count": null,
   "id": "51435d42",
   "metadata": {},
   "outputs": [],
   "source": []
  }
 ],
 "metadata": {
  "kernelspec": {
   "display_name": "Python 3 (ipykernel)",
   "language": "python",
   "name": "python3"
  },
  "language_info": {
   "codemirror_mode": {
    "name": "ipython",
    "version": 3
   },
   "file_extension": ".py",
   "mimetype": "text/x-python",
   "name": "python",
   "nbconvert_exporter": "python",
   "pygments_lexer": "ipython3",
   "version": "3.10.5"
  }
 },
 "nbformat": 4,
 "nbformat_minor": 5
}
